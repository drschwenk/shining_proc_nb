{
 "cells": [
  {
   "cell_type": "code",
   "execution_count": 2,
   "metadata": {
    "collapsed": true,
    "run_control": {
     "frozen": false,
     "read_only": false
    }
   },
   "outputs": [],
   "source": [
    "%%capture\n",
    "from __future__ import division\n",
    "import numpy as np\n",
    "import pandas as pd\n",
    "import scipy.stats as st\n",
    "import itertools\n",
    "import math\n",
    "from collections import Counter, defaultdict\n",
    "%load_ext autoreload\n",
    "%autoreload 2\n",
    "import json\n",
    "import pprint\n",
    "import boto\n",
    "import pickle"
   ]
  },
  {
   "cell_type": "code",
   "execution_count": 3,
   "metadata": {
    "collapsed": true,
    "run_control": {
     "frozen": false,
     "read_only": false
    }
   },
   "outputs": [],
   "source": [
    "%%capture\n",
    "import matplotlib as mpl\n",
    "mpl.use(\"Agg\")\n",
    "import matplotlib.pylab as plt\n",
    "#%matplotlib notebook\n",
    "%matplotlib inline\n",
    "%load_ext base16_mplrc\n",
    "%base16_mplrc light default\n",
    "plt.rcParams['figure.figsize'] = (16.0, 10.0)"
   ]
  },
  {
   "cell_type": "code",
   "execution_count": 4,
   "metadata": {
    "collapsed": true,
    "run_control": {
     "frozen": false,
     "read_only": false
    }
   },
   "outputs": [],
   "source": [
    "import anno_prep.extract_boxes as box_ext"
   ]
  },
  {
   "cell_type": "markdown",
   "metadata": {},
   "source": [
    "# Write temp annotation files (for the annotation tool)"
   ]
  },
  {
   "cell_type": "code",
   "execution_count": 78,
   "metadata": {
    "collapsed": false,
    "run_control": {
     "frozen": false,
     "read_only": false
    }
   },
   "outputs": [],
   "source": [
    "image_dir = './images/' \n",
    "anno_dir = './baseAnnotations/'\n",
    "img_dir = '/Users/schwenk/wrk/vision/datasets/shining3/images/'"
   ]
  },
  {
   "cell_type": "code",
   "execution_count": 57,
   "metadata": {
    "collapsed": false,
    "run_control": {
     "frozen": false,
     "read_only": false
    }
   },
   "outputs": [],
   "source": [
    "images_to_annotate = pd.read_csv('./list_to_annotate.txt', header=None)\n",
    "images_to_annotate.columns= ['image_name']\n",
    "images_to_annotate_list = images_to_annotate['image_name'].tolist()"
   ]
  },
  {
   "cell_type": "code",
   "execution_count": 58,
   "metadata": {
    "collapsed": false,
    "run_control": {
     "frozen": false,
     "read_only": false
    }
   },
   "outputs": [],
   "source": [
    "zip_files = !ls baseAnnotations/"
   ]
  },
  {
   "cell_type": "code",
   "execution_count": 80,
   "metadata": {
    "collapsed": false,
    "run_control": {
     "frozen": false,
     "read_only": false
    }
   },
   "outputs": [],
   "source": [
    "in1 = [im.split('.')[0] for im in images_to_annotate_list]\n",
    "in2 = [im.split('.')[0] for im in zip_files]\n",
    "# print(len(in1), len(in2))"
   ]
  },
  {
   "cell_type": "code",
   "execution_count": 60,
   "metadata": {
    "collapsed": false,
    "run_control": {
     "frozen": false,
     "read_only": false
    }
   },
   "outputs": [],
   "source": [
    "for image_file in images_to_annotate_list:\n",
    "    box_ext.write_annotations_for_tool(image_file, anno_dir)"
   ]
  },
  {
   "cell_type": "code",
   "execution_count": 61,
   "metadata": {
    "collapsed": false,
    "run_control": {
     "frozen": false,
     "read_only": false
    }
   },
   "outputs": [],
   "source": [
    "base_anno_dir = 'anno_w_infrastructure/'\n",
    "new_anno_dir = 'anno_w_dim/'\n",
    "img_d_l = box_ext.add_anno_img_dim(img_dir, images_to_annotate_list, base_anno_dir, new_anno_dir)"
   ]
  },
  {
   "cell_type": "code",
   "execution_count": 62,
   "metadata": {
    "collapsed": true,
    "run_control": {
     "frozen": false,
     "read_only": false
    }
   },
   "outputs": [],
   "source": [
    "with open('dim_lookup.pkl', 'w') as f:\n",
    "    pickle.dump(img_d_l, f)"
   ]
  },
  {
   "cell_type": "code",
   "execution_count": null,
   "metadata": {
    "collapsed": true
   },
   "outputs": [],
   "source": []
  },
  {
   "cell_type": "code",
   "execution_count": null,
   "metadata": {
    "collapsed": true
   },
   "outputs": [],
   "source": []
  },
  {
   "cell_type": "code",
   "execution_count": null,
   "metadata": {
    "collapsed": true
   },
   "outputs": [],
   "source": []
  },
  {
   "cell_type": "code",
   "execution_count": null,
   "metadata": {
    "collapsed": true
   },
   "outputs": [],
   "source": []
  },
  {
   "cell_type": "markdown",
   "metadata": {
    "heading_collapsed": true
   },
   "source": [
    "# looking at box counts over the dataset"
   ]
  },
  {
   "cell_type": "code",
   "execution_count": 63,
   "metadata": {
    "collapsed": false,
    "hidden": true,
    "run_control": {
     "frozen": false,
     "read_only": false
    }
   },
   "outputs": [],
   "source": [
    "box_n_counts = {}\n",
    "for image_file in images_to_annotate_list:\n",
    "    page_anno = box_ext.load_local_annotation(image_file + '.json', 'baseAnnotations/')\n",
    "    anno_count = 0\n",
    "    for anno_type, annotations in page_anno.items():\n",
    "        for box_id, box_val in annotations.items():\n",
    "            if anno_type in ['blobs', 'arrows', 'backgroundBlobs', 'text']:\n",
    "                anno_count += len(box_val)\n",
    "    box_n_counts[image_file] = anno_count"
   ]
  },
  {
   "cell_type": "code",
   "execution_count": 77,
   "metadata": {
    "collapsed": false,
    "hidden": true
   },
   "outputs": [],
   "source": [
    "small_pages = [k for k, v in box_n_counts.items() if v < 40]\n",
    "with open('small_pages.pkl', 'w') as f:\n",
    "    pickle.dump(small_pages, f)"
   ]
  },
  {
   "cell_type": "code",
   "execution_count": 72,
   "metadata": {
    "collapsed": false,
    "hidden": true,
    "run_control": {
     "frozen": false,
     "read_only": false
    },
    "scrolled": false
   },
   "outputs": [
    {
     "data": {
      "image/png": "[encoded data removed]",
      "text/plain": [
       "<matplotlib.figure.Figure at 0x114290350>"
      ]
     },
     "metadata": {},
     "output_type": "display_data"
    }
   ],
   "source": [
    "_ = pd.Series(box_n_counts).hist(bins = 20, grid=False)"
   ]
  },
  {
   "cell_type": "markdown",
   "metadata": {
    "heading_collapsed": true
   },
   "source": [
    "# investigating images with flipped text"
   ]
  },
  {
   "cell_type": "code",
   "execution_count": 37,
   "metadata": {
    "collapsed": false,
    "hidden": true,
    "run_control": {
     "frozen": false,
     "read_only": false
    }
   },
   "outputs": [],
   "source": [
    "bad_images = set()\n",
    "for image_file in images_to_annotate_list:\n",
    "    page_anno = box_ext.load_local_annotation(image_file + '.json', 'baseAnnotations/')\n",
    "    x_bound, y_bound = img_d_l[image_file]\n",
    "    for anno_type, annotations in page_anno.items():\n",
    "        for box_id, box_val in annotations.items():\n",
    "            if anno_type in ['text']:\n",
    "                if box_val['rectangle'][1][0] > x_bound or box_val['rectangle'][1][1] > y_bound:\n",
    "                    bad_images.add(image_file)"
   ]
  },
  {
   "cell_type": "code",
   "execution_count": 42,
   "metadata": {
    "collapsed": false,
    "hidden": true,
    "run_control": {
     "frozen": false,
     "read_only": false
    }
   },
   "outputs": [],
   "source": [
    "bad_image_list = sorted(list(bad_images))"
   ]
  },
  {
   "cell_type": "code",
   "execution_count": 55,
   "metadata": {
    "collapsed": false,
    "hidden": true,
    "run_control": {
     "frozen": false,
     "read_only": false
    }
   },
   "outputs": [],
   "source": [
    "%page bad_image_list"
   ]
  },
  {
   "cell_type": "code",
   "execution_count": 47,
   "metadata": {
    "collapsed": false,
    "hidden": true,
    "run_control": {
     "frozen": false,
     "read_only": false
    }
   },
   "outputs": [],
   "source": [
    "with open ('bad_images.pkl', 'w') as f:\n",
    "    pickle.dump(bad_image_list, f)"
   ]
  },
  {
   "cell_type": "markdown",
   "metadata": {
    "heading_collapsed": true
   },
   "source": [
    "# End"
   ]
  },
  {
   "cell_type": "code",
   "execution_count": 23,
   "metadata": {
    "collapsed": true,
    "hidden": true,
    "run_control": {
     "frozen": false,
     "read_only": false
    }
   },
   "outputs": [],
   "source": [
    "s3_con = boto.connect_s3(aws_access_key_id=ai2_aws.access_key, aws_secret_access_key=ai2_aws.access_secret_key)"
   ]
  },
  {
   "cell_type": "code",
   "execution_count": 31,
   "metadata": {
    "collapsed": false,
    "hidden": true,
    "run_control": {
     "frozen": false,
     "read_only": false
    }
   },
   "outputs": [],
   "source": [
    "turk_data_tl_b = s3_con.get_bucket('ai2-vision-turk-data')"
   ]
  },
  {
   "cell_type": "code",
   "execution_count": 158,
   "metadata": {
    "collapsed": false,
    "hidden": true,
    "run_control": {
     "frozen": false,
     "read_only": false
    }
   },
   "outputs": [],
   "source": [
    "not_in_zip =  set(in1).difference(set(in2))\n",
    "\n",
    "not_in_txt_list = set(in2).difference(set(in1))\n",
    "\n",
    "not_in_zip\n",
    "\n",
    "not_in_txt_list\n",
    "\n",
    "with open (anno_dir + test_anno_file) as f:\n",
    "    test_anno = json.load(f)\n",
    "\n",
    "print(test_anno.keys())\n",
    "\n",
    "# pprint.pprint(test_anno['backgroundBlobs'])\n",
    "\n",
    "pprint.pprint(test_anno['blobs'])\n",
    "\n",
    "box_ext.create_anno_for_tool(test_anno)"
   ]
  }
 ],
 "metadata": {
  "kernelspec": {
   "display_name": "Python 2",
   "language": "python",
   "name": "python2"
  },
  "language_info": {
   "codemirror_mode": {
    "name": "ipython",
    "version": 2
   },
   "file_extension": ".py",
   "mimetype": "text/x-python",
   "name": "python",
   "nbconvert_exporter": "python",
   "pygments_lexer": "ipython2",
   "version": "2.7.10"
  }
 },
 "nbformat": 4,
 "nbformat_minor": 0
}
